{
 "cells": [
  {
   "cell_type": "code",
   "execution_count": null,
   "id": "7ec0b463",
   "metadata": {},
   "outputs": [],
   "source": []
  },
  {
   "cell_type": "code",
   "execution_count": 19,
   "id": "d6753f58",
   "metadata": {},
   "outputs": [
    {
     "name": "stdout",
     "output_type": "stream",
     "text": [
      "total annotation count:  5973\n",
      "total entity count:  1935\n"
     ]
    }
   ],
   "source": [
    "with open('test.txt', 'r') as f:\n",
    "    c1, c2 = 0, 0\n",
    "    for line in f.readlines():\n",
    "        a = line.split('\\t')[-1].strip()\n",
    "        if len(a) > 0:\n",
    "            a = a[0]\n",
    "        # print(a)\n",
    "        if a != 'O':\n",
    "            c1+=1\n",
    "        if a == 'B':\n",
    "            c2+=1\n",
    "    f.close()\n",
    "    print('total annotation count: ', c1)\n",
    "    print('total entity count: ', c2)\n",
    "    "
   ]
  }
 ],
 "metadata": {
  "kernelspec": {
   "display_name": "multitagger",
   "language": "python",
   "name": "python3"
  },
  "language_info": {
   "codemirror_mode": {
    "name": "ipython",
    "version": 3
   },
   "file_extension": ".py",
   "mimetype": "text/x-python",
   "name": "python",
   "nbconvert_exporter": "python",
   "pygments_lexer": "ipython3",
   "version": "3.10.16"
  }
 },
 "nbformat": 4,
 "nbformat_minor": 5
}
